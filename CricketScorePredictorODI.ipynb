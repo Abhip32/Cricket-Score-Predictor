{
  "cells": [
    {
      "cell_type": "code",
      "execution_count": 1,
      "metadata": {
        "id": "sKbh6Wz5f6Wd"
      },
      "outputs": [
        {
          "data": {
            "text/html": [
              "<div>\n",
              "<style scoped>\n",
              "    .dataframe tbody tr th:only-of-type {\n",
              "        vertical-align: middle;\n",
              "    }\n",
              "\n",
              "    .dataframe tbody tr th {\n",
              "        vertical-align: top;\n",
              "    }\n",
              "\n",
              "    .dataframe thead th {\n",
              "        text-align: right;\n",
              "    }\n",
              "</style>\n",
              "<table border=\"1\" class=\"dataframe\">\n",
              "  <thead>\n",
              "    <tr style=\"text-align: right;\">\n",
              "      <th></th>\n",
              "      <th>mid</th>\n",
              "      <th>date</th>\n",
              "      <th>venue</th>\n",
              "      <th>bat_team</th>\n",
              "      <th>bowl_team</th>\n",
              "      <th>batsman</th>\n",
              "      <th>bowler</th>\n",
              "      <th>runs</th>\n",
              "      <th>wickets</th>\n",
              "      <th>overs</th>\n",
              "      <th>runs_last_5</th>\n",
              "      <th>wickets_last_5</th>\n",
              "      <th>striker</th>\n",
              "      <th>non-striker</th>\n",
              "      <th>total</th>\n",
              "    </tr>\n",
              "  </thead>\n",
              "  <tbody>\n",
              "    <tr>\n",
              "      <th>0</th>\n",
              "      <td>1</td>\n",
              "      <td>2006-06-13</td>\n",
              "      <td>Civil Service Cricket Club, Stormont</td>\n",
              "      <td>England</td>\n",
              "      <td>Ireland</td>\n",
              "      <td>ME Trescothick</td>\n",
              "      <td>DT Johnston</td>\n",
              "      <td>0</td>\n",
              "      <td>0</td>\n",
              "      <td>0.1</td>\n",
              "      <td>0</td>\n",
              "      <td>0</td>\n",
              "      <td>0</td>\n",
              "      <td>0</td>\n",
              "      <td>301</td>\n",
              "    </tr>\n",
              "    <tr>\n",
              "      <th>1</th>\n",
              "      <td>1</td>\n",
              "      <td>2006-06-13</td>\n",
              "      <td>Civil Service Cricket Club, Stormont</td>\n",
              "      <td>England</td>\n",
              "      <td>Ireland</td>\n",
              "      <td>ME Trescothick</td>\n",
              "      <td>DT Johnston</td>\n",
              "      <td>0</td>\n",
              "      <td>0</td>\n",
              "      <td>0.2</td>\n",
              "      <td>0</td>\n",
              "      <td>0</td>\n",
              "      <td>0</td>\n",
              "      <td>0</td>\n",
              "      <td>301</td>\n",
              "    </tr>\n",
              "    <tr>\n",
              "      <th>2</th>\n",
              "      <td>1</td>\n",
              "      <td>2006-06-13</td>\n",
              "      <td>Civil Service Cricket Club, Stormont</td>\n",
              "      <td>England</td>\n",
              "      <td>Ireland</td>\n",
              "      <td>ME Trescothick</td>\n",
              "      <td>DT Johnston</td>\n",
              "      <td>4</td>\n",
              "      <td>0</td>\n",
              "      <td>0.3</td>\n",
              "      <td>4</td>\n",
              "      <td>0</td>\n",
              "      <td>0</td>\n",
              "      <td>0</td>\n",
              "      <td>301</td>\n",
              "    </tr>\n",
              "    <tr>\n",
              "      <th>3</th>\n",
              "      <td>1</td>\n",
              "      <td>2006-06-13</td>\n",
              "      <td>Civil Service Cricket Club, Stormont</td>\n",
              "      <td>England</td>\n",
              "      <td>Ireland</td>\n",
              "      <td>ME Trescothick</td>\n",
              "      <td>DT Johnston</td>\n",
              "      <td>6</td>\n",
              "      <td>0</td>\n",
              "      <td>0.4</td>\n",
              "      <td>6</td>\n",
              "      <td>0</td>\n",
              "      <td>0</td>\n",
              "      <td>0</td>\n",
              "      <td>301</td>\n",
              "    </tr>\n",
              "    <tr>\n",
              "      <th>4</th>\n",
              "      <td>1</td>\n",
              "      <td>2006-06-13</td>\n",
              "      <td>Civil Service Cricket Club, Stormont</td>\n",
              "      <td>England</td>\n",
              "      <td>Ireland</td>\n",
              "      <td>ME Trescothick</td>\n",
              "      <td>DT Johnston</td>\n",
              "      <td>6</td>\n",
              "      <td>0</td>\n",
              "      <td>0.5</td>\n",
              "      <td>6</td>\n",
              "      <td>0</td>\n",
              "      <td>0</td>\n",
              "      <td>0</td>\n",
              "      <td>301</td>\n",
              "    </tr>\n",
              "    <tr>\n",
              "      <th>5</th>\n",
              "      <td>1</td>\n",
              "      <td>2006-06-13</td>\n",
              "      <td>Civil Service Cricket Club, Stormont</td>\n",
              "      <td>England</td>\n",
              "      <td>Ireland</td>\n",
              "      <td>ME Trescothick</td>\n",
              "      <td>DT Johnston</td>\n",
              "      <td>6</td>\n",
              "      <td>0</td>\n",
              "      <td>0.6</td>\n",
              "      <td>6</td>\n",
              "      <td>0</td>\n",
              "      <td>0</td>\n",
              "      <td>0</td>\n",
              "      <td>301</td>\n",
              "    </tr>\n",
              "    <tr>\n",
              "      <th>6</th>\n",
              "      <td>1</td>\n",
              "      <td>2006-06-13</td>\n",
              "      <td>Civil Service Cricket Club, Stormont</td>\n",
              "      <td>England</td>\n",
              "      <td>Ireland</td>\n",
              "      <td>EC Joyce</td>\n",
              "      <td>D Langford-Smith</td>\n",
              "      <td>6</td>\n",
              "      <td>0</td>\n",
              "      <td>1.1</td>\n",
              "      <td>6</td>\n",
              "      <td>0</td>\n",
              "      <td>0</td>\n",
              "      <td>0</td>\n",
              "      <td>301</td>\n",
              "    </tr>\n",
              "    <tr>\n",
              "      <th>7</th>\n",
              "      <td>1</td>\n",
              "      <td>2006-06-13</td>\n",
              "      <td>Civil Service Cricket Club, Stormont</td>\n",
              "      <td>England</td>\n",
              "      <td>Ireland</td>\n",
              "      <td>EC Joyce</td>\n",
              "      <td>D Langford-Smith</td>\n",
              "      <td>6</td>\n",
              "      <td>0</td>\n",
              "      <td>1.2</td>\n",
              "      <td>6</td>\n",
              "      <td>0</td>\n",
              "      <td>0</td>\n",
              "      <td>0</td>\n",
              "      <td>301</td>\n",
              "    </tr>\n",
              "    <tr>\n",
              "      <th>8</th>\n",
              "      <td>1</td>\n",
              "      <td>2006-06-13</td>\n",
              "      <td>Civil Service Cricket Club, Stormont</td>\n",
              "      <td>England</td>\n",
              "      <td>Ireland</td>\n",
              "      <td>EC Joyce</td>\n",
              "      <td>D Langford-Smith</td>\n",
              "      <td>6</td>\n",
              "      <td>0</td>\n",
              "      <td>1.3</td>\n",
              "      <td>6</td>\n",
              "      <td>0</td>\n",
              "      <td>0</td>\n",
              "      <td>0</td>\n",
              "      <td>301</td>\n",
              "    </tr>\n",
              "    <tr>\n",
              "      <th>9</th>\n",
              "      <td>1</td>\n",
              "      <td>2006-06-13</td>\n",
              "      <td>Civil Service Cricket Club, Stormont</td>\n",
              "      <td>England</td>\n",
              "      <td>Ireland</td>\n",
              "      <td>EC Joyce</td>\n",
              "      <td>D Langford-Smith</td>\n",
              "      <td>7</td>\n",
              "      <td>0</td>\n",
              "      <td>1.3</td>\n",
              "      <td>7</td>\n",
              "      <td>0</td>\n",
              "      <td>0</td>\n",
              "      <td>0</td>\n",
              "      <td>301</td>\n",
              "    </tr>\n",
              "  </tbody>\n",
              "</table>\n",
              "</div>"
            ],
            "text/plain": [
              "   mid        date                                 venue bat_team bowl_team  \\\n",
              "0    1  2006-06-13  Civil Service Cricket Club, Stormont  England   Ireland   \n",
              "1    1  2006-06-13  Civil Service Cricket Club, Stormont  England   Ireland   \n",
              "2    1  2006-06-13  Civil Service Cricket Club, Stormont  England   Ireland   \n",
              "3    1  2006-06-13  Civil Service Cricket Club, Stormont  England   Ireland   \n",
              "4    1  2006-06-13  Civil Service Cricket Club, Stormont  England   Ireland   \n",
              "5    1  2006-06-13  Civil Service Cricket Club, Stormont  England   Ireland   \n",
              "6    1  2006-06-13  Civil Service Cricket Club, Stormont  England   Ireland   \n",
              "7    1  2006-06-13  Civil Service Cricket Club, Stormont  England   Ireland   \n",
              "8    1  2006-06-13  Civil Service Cricket Club, Stormont  England   Ireland   \n",
              "9    1  2006-06-13  Civil Service Cricket Club, Stormont  England   Ireland   \n",
              "\n",
              "          batsman            bowler  runs  wickets  overs  runs_last_5  \\\n",
              "0  ME Trescothick       DT Johnston     0        0    0.1            0   \n",
              "1  ME Trescothick       DT Johnston     0        0    0.2            0   \n",
              "2  ME Trescothick       DT Johnston     4        0    0.3            4   \n",
              "3  ME Trescothick       DT Johnston     6        0    0.4            6   \n",
              "4  ME Trescothick       DT Johnston     6        0    0.5            6   \n",
              "5  ME Trescothick       DT Johnston     6        0    0.6            6   \n",
              "6        EC Joyce  D Langford-Smith     6        0    1.1            6   \n",
              "7        EC Joyce  D Langford-Smith     6        0    1.2            6   \n",
              "8        EC Joyce  D Langford-Smith     6        0    1.3            6   \n",
              "9        EC Joyce  D Langford-Smith     7        0    1.3            7   \n",
              "\n",
              "   wickets_last_5  striker  non-striker  total  \n",
              "0               0        0            0    301  \n",
              "1               0        0            0    301  \n",
              "2               0        0            0    301  \n",
              "3               0        0            0    301  \n",
              "4               0        0            0    301  \n",
              "5               0        0            0    301  \n",
              "6               0        0            0    301  \n",
              "7               0        0            0    301  \n",
              "8               0        0            0    301  \n",
              "9               0        0            0    301  "
            ]
          },
          "execution_count": 1,
          "metadata": {},
          "output_type": "execute_result"
        }
      ],
      "source": [
        "import pandas as pd\n",
        "df = pd.read_csv('./odi.csv')\n",
        "df.head(10)"
      ]
    },
    {
      "cell_type": "code",
      "execution_count": 2,
      "metadata": {
        "colab": {
          "base_uri": "https://localhost:8080/",
          "height": 136
        },
        "id": "G1q2y1wEKPDY",
        "outputId": "3d8407e4-140d-40df-ee01-bccfc120a9a7"
      },
      "outputs": [
        {
          "name": "stdout",
          "output_type": "stream",
          "text": [
            "<class 'pandas.core.frame.DataFrame'>\n",
            "RangeIndex: 350899 entries, 0 to 350898\n",
            "Data columns (total 15 columns):\n",
            " #   Column          Non-Null Count   Dtype  \n",
            "---  ------          --------------   -----  \n",
            " 0   mid             350899 non-null  int64  \n",
            " 1   date            350899 non-null  object \n",
            " 2   venue           350899 non-null  object \n",
            " 3   bat_team        350899 non-null  object \n",
            " 4   bowl_team       350899 non-null  object \n",
            " 5   batsman         350899 non-null  object \n",
            " 6   bowler          350899 non-null  object \n",
            " 7   runs            350899 non-null  int64  \n",
            " 8   wickets         350899 non-null  int64  \n",
            " 9   overs           350899 non-null  float64\n",
            " 10  runs_last_5     350899 non-null  int64  \n",
            " 11  wickets_last_5  350899 non-null  int64  \n",
            " 12  striker         350899 non-null  int64  \n",
            " 13  non-striker     350899 non-null  int64  \n",
            " 14  total           350899 non-null  int64  \n",
            "dtypes: float64(1), int64(8), object(6)\n",
            "memory usage: 40.2+ MB\n"
          ]
        }
      ],
      "source": [
        "df.info()\n",
        "#2,3,4,7,8,9,10,11,12,13,15"
      ]
    },
    {
      "cell_type": "code",
      "execution_count": 3,
      "metadata": {
        "colab": {
          "base_uri": "https://localhost:8080/",
          "height": 34
        },
        "id": "K3JiPxrOKRZJ",
        "outputId": "6a71fdb0-3fe4-4506-fd37-aa02e0841cda"
      },
      "outputs": [
        {
          "data": {
            "text/plain": [
              "mid               0\n",
              "date              0\n",
              "venue             0\n",
              "bat_team          0\n",
              "bowl_team         0\n",
              "batsman           0\n",
              "bowler            0\n",
              "runs              0\n",
              "wickets           0\n",
              "overs             0\n",
              "runs_last_5       0\n",
              "wickets_last_5    0\n",
              "striker           0\n",
              "non-striker       0\n",
              "total             0\n",
              "dtype: int64"
            ]
          },
          "execution_count": 3,
          "metadata": {},
          "output_type": "execute_result"
        }
      ],
      "source": [
        "# Check for missing values\n",
        "# Drop missing values\n",
        "df = df.dropna()\n",
        "df.isnull().sum()"
      ]
    },
    {
      "cell_type": "code",
      "execution_count": 4,
      "metadata": {},
      "outputs": [
        {
          "data": {
            "text/plain": [
              "0"
            ]
          },
          "execution_count": 4,
          "metadata": {},
          "output_type": "execute_result"
        }
      ],
      "source": [
        "# Check for duplicates\n",
        "df.duplicated().sum()"
      ]
    },
    {
      "cell_type": "code",
      "execution_count": 5,
      "metadata": {
        "id": "-gdCuEIIKodI"
      },
      "outputs": [
        {
          "data": {
            "text/html": [
              "<div>\n",
              "<style scoped>\n",
              "    .dataframe tbody tr th:only-of-type {\n",
              "        vertical-align: middle;\n",
              "    }\n",
              "\n",
              "    .dataframe tbody tr th {\n",
              "        vertical-align: top;\n",
              "    }\n",
              "\n",
              "    .dataframe thead th {\n",
              "        text-align: right;\n",
              "    }\n",
              "</style>\n",
              "<table border=\"1\" class=\"dataframe\">\n",
              "  <thead>\n",
              "    <tr style=\"text-align: right;\">\n",
              "      <th></th>\n",
              "      <th>mid</th>\n",
              "      <th>runs</th>\n",
              "      <th>wickets</th>\n",
              "      <th>overs</th>\n",
              "      <th>runs_last_5</th>\n",
              "      <th>wickets_last_5</th>\n",
              "      <th>striker</th>\n",
              "      <th>non-striker</th>\n",
              "      <th>total</th>\n",
              "    </tr>\n",
              "  </thead>\n",
              "  <tbody>\n",
              "    <tr>\n",
              "      <th>count</th>\n",
              "      <td>350899.000000</td>\n",
              "      <td>350899.000000</td>\n",
              "      <td>350899.000000</td>\n",
              "      <td>350899.000000</td>\n",
              "      <td>350899.000000</td>\n",
              "      <td>350899.000000</td>\n",
              "      <td>350899.000000</td>\n",
              "      <td>350899.000000</td>\n",
              "      <td>350899.000000</td>\n",
              "    </tr>\n",
              "    <tr>\n",
              "      <th>mean</th>\n",
              "      <td>594.360426</td>\n",
              "      <td>114.801661</td>\n",
              "      <td>2.974970</td>\n",
              "      <td>24.052899</td>\n",
              "      <td>23.548303</td>\n",
              "      <td>0.669814</td>\n",
              "      <td>35.180129</td>\n",
              "      <td>12.427944</td>\n",
              "      <td>255.355387</td>\n",
              "    </tr>\n",
              "    <tr>\n",
              "      <th>std</th>\n",
              "      <td>343.605128</td>\n",
              "      <td>77.665959</td>\n",
              "      <td>2.298959</td>\n",
              "      <td>14.235439</td>\n",
              "      <td>11.042974</td>\n",
              "      <td>0.833895</td>\n",
              "      <td>28.115264</td>\n",
              "      <td>15.019181</td>\n",
              "      <td>62.354412</td>\n",
              "    </tr>\n",
              "    <tr>\n",
              "      <th>min</th>\n",
              "      <td>1.000000</td>\n",
              "      <td>0.000000</td>\n",
              "      <td>0.000000</td>\n",
              "      <td>0.000000</td>\n",
              "      <td>0.000000</td>\n",
              "      <td>0.000000</td>\n",
              "      <td>0.000000</td>\n",
              "      <td>0.000000</td>\n",
              "      <td>44.000000</td>\n",
              "    </tr>\n",
              "    <tr>\n",
              "      <th>25%</th>\n",
              "      <td>296.000000</td>\n",
              "      <td>51.000000</td>\n",
              "      <td>1.000000</td>\n",
              "      <td>11.600000</td>\n",
              "      <td>17.000000</td>\n",
              "      <td>0.000000</td>\n",
              "      <td>13.000000</td>\n",
              "      <td>2.000000</td>\n",
              "      <td>217.000000</td>\n",
              "    </tr>\n",
              "    <tr>\n",
              "      <th>50%</th>\n",
              "      <td>596.000000</td>\n",
              "      <td>105.000000</td>\n",
              "      <td>3.000000</td>\n",
              "      <td>23.600000</td>\n",
              "      <td>23.000000</td>\n",
              "      <td>0.000000</td>\n",
              "      <td>29.000000</td>\n",
              "      <td>7.000000</td>\n",
              "      <td>257.000000</td>\n",
              "    </tr>\n",
              "    <tr>\n",
              "      <th>75%</th>\n",
              "      <td>893.000000</td>\n",
              "      <td>168.000000</td>\n",
              "      <td>4.000000</td>\n",
              "      <td>36.200000</td>\n",
              "      <td>29.000000</td>\n",
              "      <td>1.000000</td>\n",
              "      <td>50.000000</td>\n",
              "      <td>18.000000</td>\n",
              "      <td>298.000000</td>\n",
              "    </tr>\n",
              "    <tr>\n",
              "      <th>max</th>\n",
              "      <td>1188.000000</td>\n",
              "      <td>444.000000</td>\n",
              "      <td>10.000000</td>\n",
              "      <td>49.600000</td>\n",
              "      <td>101.000000</td>\n",
              "      <td>7.000000</td>\n",
              "      <td>264.000000</td>\n",
              "      <td>149.000000</td>\n",
              "      <td>444.000000</td>\n",
              "    </tr>\n",
              "  </tbody>\n",
              "</table>\n",
              "</div>"
            ],
            "text/plain": [
              "                 mid           runs        wickets          overs  \\\n",
              "count  350899.000000  350899.000000  350899.000000  350899.000000   \n",
              "mean      594.360426     114.801661       2.974970      24.052899   \n",
              "std       343.605128      77.665959       2.298959      14.235439   \n",
              "min         1.000000       0.000000       0.000000       0.000000   \n",
              "25%       296.000000      51.000000       1.000000      11.600000   \n",
              "50%       596.000000     105.000000       3.000000      23.600000   \n",
              "75%       893.000000     168.000000       4.000000      36.200000   \n",
              "max      1188.000000     444.000000      10.000000      49.600000   \n",
              "\n",
              "         runs_last_5  wickets_last_5        striker    non-striker  \\\n",
              "count  350899.000000   350899.000000  350899.000000  350899.000000   \n",
              "mean       23.548303        0.669814      35.180129      12.427944   \n",
              "std        11.042974        0.833895      28.115264      15.019181   \n",
              "min         0.000000        0.000000       0.000000       0.000000   \n",
              "25%        17.000000        0.000000      13.000000       2.000000   \n",
              "50%        23.000000        0.000000      29.000000       7.000000   \n",
              "75%        29.000000        1.000000      50.000000      18.000000   \n",
              "max       101.000000        7.000000     264.000000     149.000000   \n",
              "\n",
              "               total  \n",
              "count  350899.000000  \n",
              "mean      255.355387  \n",
              "std        62.354412  \n",
              "min        44.000000  \n",
              "25%       217.000000  \n",
              "50%       257.000000  \n",
              "75%       298.000000  \n",
              "max       444.000000  "
            ]
          },
          "execution_count": 5,
          "metadata": {},
          "output_type": "execute_result"
        }
      ],
      "source": [
        "df.describe()"
      ]
    },
    {
      "cell_type": "code",
      "execution_count": 6,
      "metadata": {},
      "outputs": [
        {
          "data": {
            "image/png": "[encoded data removed]",
            "text/plain": [
              "<Figure size 432x288 with 1 Axes>"
            ]
          },
          "metadata": {
            "needs_background": "light"
          },
          "output_type": "display_data"
        }
      ],
      "source": [
        "import matplotlib.pyplot as plt\n",
        "\n",
        "# Create a histogram of the \"runs\" column\n",
        "plt.hist(df['runs'], bins=20)\n",
        "plt.title('Distribution of Runs')\n",
        "plt.xlabel('Runs')\n",
        "plt.ylabel('Count')\n",
        "plt.show()"
      ]
    },
    {
      "cell_type": "code",
      "execution_count": 7,
      "metadata": {},
      "outputs": [
        {
          "data": {
            "image/png": "[encoded data removed]",
            "text/plain": [
              "<Figure size 432x288 with 1 Axes>"
            ]
          },
          "metadata": {
            "needs_background": "light"
          },
          "output_type": "display_data"
        }
      ],
      "source": [
        "# Create a bar chart of the frequency of each \"bat_team\"\n",
        "df['bat_team'].value_counts().plot(kind='bar')\n",
        "plt.title('Frequency of Batting Teams')\n",
        "plt.xlabel('Batting Team')\n",
        "plt.ylabel('Frequency')\n",
        "plt.show()"
      ]
    },
    {
      "cell_type": "code",
      "execution_count": 8,
      "metadata": {},
      "outputs": [
        {
          "data": {
            "text/html": [
              "<div>\n",
              "<style scoped>\n",
              "    .dataframe tbody tr th:only-of-type {\n",
              "        vertical-align: middle;\n",
              "    }\n",
              "\n",
              "    .dataframe tbody tr th {\n",
              "        vertical-align: top;\n",
              "    }\n",
              "\n",
              "    .dataframe thead th {\n",
              "        text-align: right;\n",
              "    }\n",
              "</style>\n",
              "<table border=\"1\" class=\"dataframe\">\n",
              "  <thead>\n",
              "    <tr style=\"text-align: right;\">\n",
              "      <th></th>\n",
              "      <th>mid</th>\n",
              "      <th>date</th>\n",
              "      <th>venue</th>\n",
              "      <th>bat_team</th>\n",
              "      <th>bowl_team</th>\n",
              "      <th>batsman</th>\n",
              "      <th>bowler</th>\n",
              "      <th>runs</th>\n",
              "      <th>wickets</th>\n",
              "      <th>overs</th>\n",
              "      <th>runs_last_5</th>\n",
              "      <th>wickets_last_5</th>\n",
              "      <th>striker</th>\n",
              "      <th>non-striker</th>\n",
              "      <th>total</th>\n",
              "    </tr>\n",
              "  </thead>\n",
              "  <tbody>\n",
              "    <tr>\n",
              "      <th>0</th>\n",
              "      <td>1</td>\n",
              "      <td>2006-06-13</td>\n",
              "      <td>19</td>\n",
              "      <td>6</td>\n",
              "      <td>9</td>\n",
              "      <td>ME Trescothick</td>\n",
              "      <td>DT Johnston</td>\n",
              "      <td>0</td>\n",
              "      <td>0</td>\n",
              "      <td>0.1</td>\n",
              "      <td>0</td>\n",
              "      <td>0</td>\n",
              "      <td>0</td>\n",
              "      <td>0</td>\n",
              "      <td>301</td>\n",
              "    </tr>\n",
              "    <tr>\n",
              "      <th>1</th>\n",
              "      <td>1</td>\n",
              "      <td>2006-06-13</td>\n",
              "      <td>19</td>\n",
              "      <td>6</td>\n",
              "      <td>9</td>\n",
              "      <td>ME Trescothick</td>\n",
              "      <td>DT Johnston</td>\n",
              "      <td>0</td>\n",
              "      <td>0</td>\n",
              "      <td>0.2</td>\n",
              "      <td>0</td>\n",
              "      <td>0</td>\n",
              "      <td>0</td>\n",
              "      <td>0</td>\n",
              "      <td>301</td>\n",
              "    </tr>\n",
              "    <tr>\n",
              "      <th>2</th>\n",
              "      <td>1</td>\n",
              "      <td>2006-06-13</td>\n",
              "      <td>19</td>\n",
              "      <td>6</td>\n",
              "      <td>9</td>\n",
              "      <td>ME Trescothick</td>\n",
              "      <td>DT Johnston</td>\n",
              "      <td>4</td>\n",
              "      <td>0</td>\n",
              "      <td>0.3</td>\n",
              "      <td>4</td>\n",
              "      <td>0</td>\n",
              "      <td>0</td>\n",
              "      <td>0</td>\n",
              "      <td>301</td>\n",
              "    </tr>\n",
              "    <tr>\n",
              "      <th>3</th>\n",
              "      <td>1</td>\n",
              "      <td>2006-06-13</td>\n",
              "      <td>19</td>\n",
              "      <td>6</td>\n",
              "      <td>9</td>\n",
              "      <td>ME Trescothick</td>\n",
              "      <td>DT Johnston</td>\n",
              "      <td>6</td>\n",
              "      <td>0</td>\n",
              "      <td>0.4</td>\n",
              "      <td>6</td>\n",
              "      <td>0</td>\n",
              "      <td>0</td>\n",
              "      <td>0</td>\n",
              "      <td>301</td>\n",
              "    </tr>\n",
              "    <tr>\n",
              "      <th>4</th>\n",
              "      <td>1</td>\n",
              "      <td>2006-06-13</td>\n",
              "      <td>19</td>\n",
              "      <td>6</td>\n",
              "      <td>9</td>\n",
              "      <td>ME Trescothick</td>\n",
              "      <td>DT Johnston</td>\n",
              "      <td>6</td>\n",
              "      <td>0</td>\n",
              "      <td>0.5</td>\n",
              "      <td>6</td>\n",
              "      <td>0</td>\n",
              "      <td>0</td>\n",
              "      <td>0</td>\n",
              "      <td>301</td>\n",
              "    </tr>\n",
              "    <tr>\n",
              "      <th>5</th>\n",
              "      <td>1</td>\n",
              "      <td>2006-06-13</td>\n",
              "      <td>19</td>\n",
              "      <td>6</td>\n",
              "      <td>9</td>\n",
              "      <td>ME Trescothick</td>\n",
              "      <td>DT Johnston</td>\n",
              "      <td>6</td>\n",
              "      <td>0</td>\n",
              "      <td>0.6</td>\n",
              "      <td>6</td>\n",
              "      <td>0</td>\n",
              "      <td>0</td>\n",
              "      <td>0</td>\n",
              "      <td>301</td>\n",
              "    </tr>\n",
              "    <tr>\n",
              "      <th>6</th>\n",
              "      <td>1</td>\n",
              "      <td>2006-06-13</td>\n",
              "      <td>19</td>\n",
              "      <td>6</td>\n",
              "      <td>9</td>\n",
              "      <td>EC Joyce</td>\n",
              "      <td>D Langford-Smith</td>\n",
              "      <td>6</td>\n",
              "      <td>0</td>\n",
              "      <td>1.1</td>\n",
              "      <td>6</td>\n",
              "      <td>0</td>\n",
              "      <td>0</td>\n",
              "      <td>0</td>\n",
              "      <td>301</td>\n",
              "    </tr>\n",
              "    <tr>\n",
              "      <th>7</th>\n",
              "      <td>1</td>\n",
              "      <td>2006-06-13</td>\n",
              "      <td>19</td>\n",
              "      <td>6</td>\n",
              "      <td>9</td>\n",
              "      <td>EC Joyce</td>\n",
              "      <td>D Langford-Smith</td>\n",
              "      <td>6</td>\n",
              "      <td>0</td>\n",
              "      <td>1.2</td>\n",
              "      <td>6</td>\n",
              "      <td>0</td>\n",
              "      <td>0</td>\n",
              "      <td>0</td>\n",
              "      <td>301</td>\n",
              "    </tr>\n",
              "    <tr>\n",
              "      <th>8</th>\n",
              "      <td>1</td>\n",
              "      <td>2006-06-13</td>\n",
              "      <td>19</td>\n",
              "      <td>6</td>\n",
              "      <td>9</td>\n",
              "      <td>EC Joyce</td>\n",
              "      <td>D Langford-Smith</td>\n",
              "      <td>6</td>\n",
              "      <td>0</td>\n",
              "      <td>1.3</td>\n",
              "      <td>6</td>\n",
              "      <td>0</td>\n",
              "      <td>0</td>\n",
              "      <td>0</td>\n",
              "      <td>301</td>\n",
              "    </tr>\n",
              "    <tr>\n",
              "      <th>9</th>\n",
              "      <td>1</td>\n",
              "      <td>2006-06-13</td>\n",
              "      <td>19</td>\n",
              "      <td>6</td>\n",
              "      <td>9</td>\n",
              "      <td>EC Joyce</td>\n",
              "      <td>D Langford-Smith</td>\n",
              "      <td>7</td>\n",
              "      <td>0</td>\n",
              "      <td>1.3</td>\n",
              "      <td>7</td>\n",
              "      <td>0</td>\n",
              "      <td>0</td>\n",
              "      <td>0</td>\n",
              "      <td>301</td>\n",
              "    </tr>\n",
              "  </tbody>\n",
              "</table>\n",
              "</div>"
            ],
            "text/plain": [
              "   mid        date  venue  bat_team  bowl_team         batsman  \\\n",
              "0    1  2006-06-13     19         6          9  ME Trescothick   \n",
              "1    1  2006-06-13     19         6          9  ME Trescothick   \n",
              "2    1  2006-06-13     19         6          9  ME Trescothick   \n",
              "3    1  2006-06-13     19         6          9  ME Trescothick   \n",
              "4    1  2006-06-13     19         6          9  ME Trescothick   \n",
              "5    1  2006-06-13     19         6          9  ME Trescothick   \n",
              "6    1  2006-06-13     19         6          9        EC Joyce   \n",
              "7    1  2006-06-13     19         6          9        EC Joyce   \n",
              "8    1  2006-06-13     19         6          9        EC Joyce   \n",
              "9    1  2006-06-13     19         6          9        EC Joyce   \n",
              "\n",
              "             bowler  runs  wickets  overs  runs_last_5  wickets_last_5  \\\n",
              "0       DT Johnston     0        0    0.1            0               0   \n",
              "1       DT Johnston     0        0    0.2            0               0   \n",
              "2       DT Johnston     4        0    0.3            4               0   \n",
              "3       DT Johnston     6        0    0.4            6               0   \n",
              "4       DT Johnston     6        0    0.5            6               0   \n",
              "5       DT Johnston     6        0    0.6            6               0   \n",
              "6  D Langford-Smith     6        0    1.1            6               0   \n",
              "7  D Langford-Smith     6        0    1.2            6               0   \n",
              "8  D Langford-Smith     6        0    1.3            6               0   \n",
              "9  D Langford-Smith     7        0    1.3            7               0   \n",
              "\n",
              "   striker  non-striker  total  \n",
              "0        0            0    301  \n",
              "1        0            0    301  \n",
              "2        0            0    301  \n",
              "3        0            0    301  \n",
              "4        0            0    301  \n",
              "5        0            0    301  \n",
              "6        0            0    301  \n",
              "7        0            0    301  \n",
              "8        0            0    301  \n",
              "9        0            0    301  "
            ]
          },
          "execution_count": 8,
          "metadata": {},
          "output_type": "execute_result"
        }
      ],
      "source": [
        "from sklearn.preprocessing import LabelEncoder\n",
        "\n",
        "# Create a LabelEncoder object\n",
        "le = LabelEncoder()\n",
        "le1 = LabelEncoder()\n",
        "le2 = LabelEncoder()\n",
        "\n",
        "# Fit and transform the \"venue\" column\n",
        "df['venue'] = le.fit_transform(df['venue'])\n",
        "\n",
        "# Fit and transform the \"bat_team\" column\n",
        "df['bat_team'] = le.fit_transform(df['bat_team'])\n",
        "\n",
        "# Fit and transform the \"bowl_team\" column\n",
        "df['bowl_team'] = le.fit_transform(df['bowl_team'])\n",
        "\n",
        "df.head(10)\n"
      ]
    },
    {
      "cell_type": "code",
      "execution_count": 9,
      "metadata": {},
      "outputs": [
        {
          "data": {
            "text/plain": [
              "mid               0\n",
              "date              0\n",
              "venue             0\n",
              "bat_team          0\n",
              "bowl_team         0\n",
              "batsman           0\n",
              "bowler            0\n",
              "runs              0\n",
              "wickets           0\n",
              "overs             0\n",
              "runs_last_5       0\n",
              "wickets_last_5    0\n",
              "striker           0\n",
              "non-striker       0\n",
              "total             0\n",
              "dtype: int64"
            ]
          },
          "execution_count": 9,
          "metadata": {},
          "output_type": "execute_result"
        }
      ],
      "source": [
        "df.isnull().sum()\n",
        "#2 3 4 5 7 8 9 10 11 12 13"
      ]
    },
    {
      "cell_type": "code",
      "execution_count": 10,
      "metadata": {},
      "outputs": [
        {
          "data": {
            "image/png": "[encoded data removed]",
            "text/plain": [
              "<Figure size 720x504 with 2 Axes>"
            ]
          },
          "metadata": {
            "needs_background": "light"
          },
          "output_type": "display_data"
        }
      ],
      "source": [
        "import seaborn as sns\n",
        "plt.figure(figsize=(10,7))\n",
        "sns.heatmap(df.corr())\n",
        "plt.show()"
      ]
    },
    {
      "cell_type": "code",
      "execution_count": 11,
      "metadata": {
        "id": "8vaWwlAnLQdQ"
      },
      "outputs": [
        {
          "data": {
            "text/plain": [
              "array([19. ,  6. ,  9. ,  0. ,  0. ,  0.1,  0. ,  0. ,  0. ,  0. ])"
            ]
          },
          "execution_count": 11,
          "metadata": {},
          "output_type": "execute_result"
        }
      ],
      "source": [
        "#Ferature Selection\n",
        "X = df.iloc[:,[2,3,4,7,8,9,10,11,12,13]].values\n",
        "#venue batTeam bowlTeam  runs wickets overs runs_last_5 wickets_last_5 striker non_striker overs\n",
        "y = df.iloc[:, 14].values\n",
        "#total\n",
        "\n",
        "X[0]"
      ]
    },
    {
      "cell_type": "code",
      "execution_count": 12,
      "metadata": {
        "colab": {
          "base_uri": "https://localhost:8080/",
          "height": 34
        },
        "id": "bDoh-BZiLUj7",
        "outputId": "de9e67f5-439f-4825-8f6c-33fe583ed753"
      },
      "outputs": [],
      "source": [
        "# Splitting the df into the Training set and Test set\n",
        "from sklearn.model_selection import train_test_split\n",
        "X_train, X_test, y_train, y_test = train_test_split(X, y, test_size = 0.25, random_state = 0)"
      ]
    },
    {
      "cell_type": "code",
      "execution_count": 13,
      "metadata": {},
      "outputs": [
        {
          "data": {
            "image/png": "[encoded data removed]",
            "text/plain": [
              "<Figure size 720x504 with 1 Axes>"
            ]
          },
          "metadata": {},
          "output_type": "display_data"
        }
      ],
      "source": [
        "from matplotlib import pyplot as plt\n",
        "import numpy as np\n",
        " \n",
        "# Creating df\n",
        "headings = ['Traning','Testing']\n",
        " \n",
        "data = [X_train.shape[0],X_test.shape[0]];\n",
        " \n",
        "# Creating plot\n",
        "fig = plt.figure(figsize =(10, 7))\n",
        "plt.pie(data, labels = headings,autopct='%1.0f%%')\n",
        " \n",
        "# show plot\n",
        "plt.show()"
      ]
    },
    {
      "cell_type": "code",
      "execution_count": 14,
      "metadata": {
        "colab": {
          "base_uri": "https://localhost:8080/",
          "height": 136
        },
        "id": "HfXvTd7qLYdw",
        "outputId": "98c95614-0ff4-421a-a7cd-b93298650d0b"
      },
      "outputs": [
        {
          "name": "stdout",
          "output_type": "stream",
          "text": [
            "Linear Regression R-squared score: 53.226727317933374\n"
          ]
        }
      ],
      "source": [
        "#Linear regression\n",
        "# Training the dataset\n",
        "from sklearn.linear_model import LinearRegression\n",
        "lin = LinearRegression()\n",
        "lin.fit(X_train,y_train)\n",
        "from sklearn.metrics import r2_score\n",
        "# Predict on the test set\n",
        "y_pred = lin.predict(X_test)\n",
        "# Calculate the R-squared score\n",
        "r2_lin = r2_score(y_test, y_pred)*100\n",
        "print(\"Linear Regression R-squared score:\", r2_lin)"
      ]
    },
    {
      "cell_type": "code",
      "execution_count": 15,
      "metadata": {
        "id": "UcA0GEPeLcIw"
      },
      "outputs": [
        {
          "name": "stdout",
          "output_type": "stream",
          "text": [
            "Random ForestRegressor R-square value: 97.88247648210263\n"
          ]
        }
      ],
      "source": [
        "#RandomForestRegression\n",
        "# Training the dataset\n",
        "from sklearn.ensemble import RandomForestRegressor\n",
        "reg = RandomForestRegressor(n_estimators=100,max_features=None)\n",
        "reg.fit(X_train,y_train)\n",
        "\n",
        "# Testing the dataset on trained model\n",
        "y_pred = reg.predict(X_test)\n",
        "r2_ran = reg.score(X_test,y_test)*100\n",
        "print(\"Random ForestRegressor R-square value:\" , r2_ran)\n"
      ]
    },
    {
      "cell_type": "code",
      "execution_count": 16,
      "metadata": {
        "colab": {
          "base_uri": "https://localhost:8080/",
          "height": 51
        },
        "id": "hUn5FJGILm07",
        "outputId": "3c9d9c81-ac99-46a7-ecec-b3b95a93aa4b"
      },
      "outputs": [
        {
          "name": "stdout",
          "output_type": "stream",
          "text": [
            "XGBoost Regression R-squared score: 58.93177528526008\n"
          ]
        }
      ],
      "source": [
        "import xgboost as xgb\n",
        "from sklearn.metrics import r2_score\n",
        "\n",
        "# Create the XGBoost regression model\n",
        "xgb_model = xgb.XGBRegressor(objective='reg:squarederror', n_estimators=100, max_depth=3, learning_rate=0.1)\n",
        "\n",
        "# Train the model on the training data\n",
        "xgb_model.fit(X_train, y_train)\n",
        "\n",
        "# Predict on the test data\n",
        "y_pred_xgb = xgb_model.predict(X_test)\n",
        "\n",
        "# Calculate the R-squared score\n",
        "r2_xgb = r2_score(y_test, y_pred_xgb)*100\n",
        "\n",
        "print(\"XGBoost Regression R-squared score:\", r2_xgb)"
      ]
    },
    {
      "cell_type": "code",
      "execution_count": 17,
      "metadata": {
        "colab": {
          "base_uri": "https://localhost:8080/",
          "height": 34
        },
        "id": "OVK5h_6JMISr",
        "outputId": "9f46d673-be71-4a7b-8dea-b19d30bb263f"
      },
      "outputs": [
        {
          "data": {
            "image/png": "[encoded data removed]",
            "text/plain": [
              "<Figure size 432x288 with 1 Axes>"
            ]
          },
          "metadata": {
            "needs_background": "light"
          },
          "output_type": "display_data"
        }
      ],
      "source": [
        "model_names = ['Linear Regression','Random Forest Regression','XGBoost' ]\n",
        "accuracy_scores = [r2_lin, r2_ran, r2_xgb] \n",
        "df = pd.DataFrame({'Model': model_names, 'Accuracy': accuracy_scores})\n",
        "sns.barplot(x='Model', y='Accuracy', data=df)\n",
        "plt.xticks(rotation=90)\n",
        "#show values on top\n",
        "for index, row in df.iterrows():\n",
        "    plt.text(row.name,row.Accuracy, round(row.Accuracy,3), ha=\"center\")\n",
        "plt.show()"
      ]
    },
    {
      "cell_type": "code",
      "execution_count": 20,
      "metadata": {},
      "outputs": [
        {
          "name": "stdout",
          "output_type": "stream",
          "text": [
            "Random Forest Regression R-squared score: 0.9785889260782099\n"
          ]
        },
        {
          "data": {
            "text/plain": [
              "['scorePredictorODI.joblib']"
            ]
          },
          "execution_count": 20,
          "metadata": {},
          "output_type": "execute_result"
        }
      ],
      "source": [
        "from sklearn.ensemble import RandomForestRegressor\n",
        "from sklearn.metrics import r2_score\n",
        "from joblib import dump\n",
        "\n",
        "# Create the Random Forest regression model\n",
        "rf_model = RandomForestRegressor(n_estimators=100,max_features=None)\n",
        "\n",
        "# Train the model on the training data\n",
        "rf_model.fit(X_train, y_train)\n",
        "\n",
        "# Predict on the test data\n",
        "y_pred_rf = rf_model.predict(X_test)\n",
        "\n",
        "# Calculate the R-squared score\n",
        "r2_rf = r2_score(y_test, y_pred_rf)\n",
        "\n",
        "print(\"Random Forest Regression R-squared score:\", r2_rf)\n",
        "\n",
        "# Dump the trained model to a file\n",
        "dump(rf_model, 'scorePredictorODI.joblib')"
      ]
    },
    {
      "cell_type": "code",
      "execution_count": 22,
      "metadata": {},
      "outputs": [
        {
          "name": "stdout",
          "output_type": "stream",
          "text": [
            "Prediction score: [343.19]\n"
          ]
        }
      ],
      "source": [
        "from joblib import load\n",
        "\n",
        "# Load the dumped model from file\n",
        "rf_model = load('scorePredictorODI.joblib')\n",
        "\n",
        "# Testing with a custom input\n",
        "import numpy as np\n",
        "#2 3 4 5 7 8 9 10 11 12 13\n",
        "#venue batTeam bowlTeam  runs wickets overs runs_last_5 wickets_last_5 striker non_striker \n",
        "new_prediction = rf_model.predict(np.array([[1 , 6 , 9 ,  100 ,  0 ,  10,  50 ,  0 ,  50 ,  50 ]]))\n",
        "print(\"Prediction score:\" , new_prediction)\n"
      ]
    }
  ],
  "metadata": {
    "colab": {
      "authorship_tag": "ABX9TyOSTJV8HPN+sxP73sJ/l9p/",
      "include_colab_link": true,
      "name": "Untitled",
      "provenance": []
    },
    "kernelspec": {
      "display_name": "Python 3",
      "name": "python3"
    },
    "language_info": {
      "codemirror_mode": {
        "name": "ipython",
        "version": 3
      },
      "file_extension": ".py",
      "mimetype": "text/x-python",
      "name": "python",
      "nbconvert_exporter": "python",
      "pygments_lexer": "ipython3",
      "version": "3.10.1"
    }
  },
  "nbformat": 4,
  "nbformat_minor": 0
}
